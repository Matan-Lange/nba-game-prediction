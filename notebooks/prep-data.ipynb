{
 "cells": [
  {
   "cell_type": "code",
   "execution_count": 1,
   "id": "bdc010b3",
   "metadata": {},
   "outputs": [],
   "source": [
    "import pandas as pd\n",
    "import numpy as np\n",
    "import math\n",
    "import time"
   ]
  },
  {
   "cell_type": "markdown",
   "id": "9dc3a90c",
   "metadata": {},
   "source": [
    "In this notebook we will prepare the data....."
   ]
  },
  {
   "cell_type": "markdown",
   "id": "227de412",
   "metadata": {},
   "source": [
    "### Import data"
   ]
  },
  {
   "cell_type": "code",
   "execution_count": 2,
   "id": "1b1b5807",
   "metadata": {},
   "outputs": [],
   "source": [
    "games = pd.read_csv('../data/games.csv')\n",
    "games_stats = pd.read_csv('../data/games_stats.csv')\n",
    "\n",
    "games.rename({'id':'game_id'},axis=1,inplace=True)"
   ]
  },
  {
   "cell_type": "markdown",
   "id": "87e3110a",
   "metadata": {},
   "source": [
    "### ELO Rating"
   ]
  },
  {
   "cell_type": "code",
   "execution_count": 3,
   "id": "5b2e9594",
   "metadata": {},
   "outputs": [],
   "source": [
    "# Home and road team win probabilities implied by Elo ratings and home court adjustment \n",
    "\n",
    "def win_probs(home_elo, away_elo, home_court_advantage) :\n",
    "    h = math.pow(10, home_elo/400)\n",
    "    r = math.pow(10, away_elo/400)\n",
    "    a = math.pow(10, home_court_advantage/400) \n",
    "\n",
    "    denom = r + a*h\n",
    "    home_prob = a*h / denom\n",
    "    away_prob = r / denom \n",
    "  \n",
    "    return home_prob, away_prob\n",
    "\n",
    "  #odds the home team will win based on elo ratings and home court advantage\n",
    "\n",
    "def home_odds_on(home_elo, away_elo, home_court_advantage) :\n",
    "    h = math.pow(10, home_elo/400)\n",
    "    r = math.pow(10, away_elo/400)\n",
    "    a = math.pow(10, home_court_advantage/400)\n",
    "    return a*h/r\n",
    "\n",
    "#this function determines the constant used in the elo rating, based on margin of victory and difference in elo ratings\n",
    "def elo_k(MOV, elo_diff):\n",
    "    k = 20\n",
    "    if MOV>0:\n",
    "        multiplier=(MOV+3)**(0.8)/(7.5+0.006*(elo_diff))\n",
    "    else:\n",
    "        multiplier=(-MOV+3)**(0.8)/(7.5+0.006*(-elo_diff))\n",
    "    return k*multiplier\n",
    "\n",
    "\n",
    "#updates the home and away teams elo ratings after a game \n",
    "\n",
    "def update_elo(home_score, away_score, home_elo, away_elo, home_court_advantage) :\n",
    "    home_prob, away_prob = win_probs(home_elo, away_elo, home_court_advantage) \n",
    "\n",
    "    if (home_score - away_score > 0) :\n",
    "        home_win = 1 \n",
    "        away_win = 0 \n",
    "    else :\n",
    "        home_win = 0 \n",
    "        away_win = 1 \n",
    "  \n",
    "    k = elo_k(home_score - away_score, home_elo - away_elo)\n",
    "\n",
    "    updated_home_elo = home_elo + k * (home_win - home_prob) \n",
    "    updated_away_elo = away_elo + k * (away_win - away_prob)\n",
    "    \n",
    "    return updated_home_elo, updated_away_elo\n",
    "\n",
    "\n",
    "#takes into account prev season elo\n",
    "def get_prev_elo(team, date, season, team_stats, elo_df) :\n",
    "    prev_game = team_stats[team_stats['date'] < game_date][(team_stats['H_team_id'] == team) | (team_stats['A_team_id'] == team)].sort_values(by = 'date').tail(1).iloc[0] \n",
    "\n",
    "    if team == prev_game['H_team_id'] :\n",
    "        elo_rating = elo_df[elo_df['Game_ID'] == prev_game['game_id']]['H_Team_Elo_After'].values[0]\n",
    "    else :\n",
    "        elo_rating = elo_df[elo_df['Game_ID'] == prev_game['game_id']]['A_Team_Elo_After'].values[0]\n",
    "  \n",
    "    if prev_game['season'] != season :\n",
    "        return (0.75 * elo_rating) + (0.25 * 1505)\n",
    "    else :\n",
    "        return elo_rating"
   ]
  },
  {
   "cell_type": "code",
   "execution_count": null,
   "id": "fe324c24",
   "metadata": {
    "scrolled": true
   },
   "outputs": [
    {
     "name": "stderr",
     "output_type": "stream",
     "text": [
      "/var/folders/vh/p685r4310xjb10y76lhdrsnm0000gn/T/ipykernel_99861/275738965.py:54: UserWarning: Boolean Series key will be reindexed to match DataFrame index.\n",
      "  prev_game = team_stats[team_stats['date'] < game_date][(team_stats['H_team_id'] == team) | (team_stats['A_team_id'] == team)].sort_values(by = 'date').tail(1).iloc[0]\n"
     ]
    }
   ],
   "source": [
    "games.sort_values(by = 'date', inplace = True)\n",
    "games.reset_index(inplace=True, drop = True)\n",
    "elo_df = pd.DataFrame(columns=['Game_ID', 'H_Team', 'A_Team', 'H_Team_Elo_Before', 'A_Team_Elo_Before', 'H_Team_Elo_After', 'A_Team_Elo_After'])\n",
    "teams_elo_df = pd.DataFrame(columns=['Game_ID','Team', 'Elo', 'Date', 'Where_Played', 'Season']) \n",
    "\n",
    "for index, row in games.iterrows(): \n",
    "    game_id = row['game_id']\n",
    "    game_date = row['date']\n",
    "    season = row['season']\n",
    "    h_team, a_team = row['H_team_id'], row['A_team_id']\n",
    "    h_score, a_score = row['H_score'], row['A_score'] \n",
    "\n",
    "    if (h_team not in elo_df['H_Team'].values and h_team not in elo_df['A_Team'].values) :\n",
    "        h_team_elo_before = 1500\n",
    "    else :\n",
    "        h_team_elo_before = get_prev_elo(h_team, game_date, season, games, elo_df)\n",
    "\n",
    "    if (a_team not in elo_df['H_Team'].values and a_team not in elo_df['A_Team'].values) :\n",
    "        a_team_elo_before = 1500\n",
    "    else :\n",
    "        a_team_elo_before = get_prev_elo(a_team, game_date, season, games, elo_df)\n",
    "\n",
    "    h_team_elo_after, a_team_elo_after = update_elo(h_score, a_score, h_team_elo_before, a_team_elo_before, 100)\n",
    "\n",
    "    new_row = {'Game_ID': game_id, 'H_Team': h_team, 'A_Team': a_team, 'H_Team_Elo_Before': h_team_elo_before, 'A_Team_Elo_Before': a_team_elo_before, \\\n",
    "                                                                        'H_Team_Elo_After' : h_team_elo_after, 'A_Team_Elo_After': a_team_elo_after}\n",
    "    teams_row_one = {'Game_ID': game_id,'Team': h_team, 'Elo': h_team_elo_before, 'Date': game_date, 'Where_Played': 'Home', 'Season': season}\n",
    "    teams_row_two = {'Game_ID': game_id,'Team': a_team, 'Elo': a_team_elo_before, 'Date': game_date, 'Where_Played': 'Away', 'Season': season}\n",
    "  \n",
    "    elo_df = elo_df.append(new_row, ignore_index = True)\n",
    "    teams_elo_df = teams_elo_df.append(teams_row_one, ignore_index=True)\n",
    "    teams_elo_df = teams_elo_df.append(teams_row_two, ignore_index=True)\n",
    "\n",
    "elo_df.rename({'Game_ID':'game_id'},axis=1,inplace=True)\n"
   ]
  },
  {
   "cell_type": "code",
   "execution_count": null,
   "id": "a92bd7af",
   "metadata": {},
   "outputs": [],
   "source": [
    "games[['H_Team_Elo_Before','A_Team_Elo_Before']] = games.merge(elo_df, on ='game_id')[['H_Team_Elo_Before','A_Team_Elo_Before']]\n",
    "games.info()"
   ]
  },
  {
   "cell_type": "markdown",
   "id": "a8296142",
   "metadata": {},
   "source": [
    "### Feature Engineering"
   ]
  },
  {
   "cell_type": "code",
   "execution_count": null,
   "id": "cb6cf0fa",
   "metadata": {},
   "outputs": [],
   "source": [
    "# create target varible - home win = 1 , away win = 0\n",
    "\n",
    "def game_result(h_score, a_score):\n",
    "    if h_score > a_score:\n",
    "        return 1\n",
    "    else:\n",
    "        return 0\n",
    "\n",
    "games['result'] = games.apply(lambda x: game_result(x['H_score'], x['A_score']), axis=1)"
   ]
  },
  {
   "cell_type": "code",
   "execution_count": null,
   "id": "db24dd73",
   "metadata": {},
   "outputs": [],
   "source": [
    "#join dates info to games_stats dataframe\n",
    "\n",
    "games_stats[['date','Home_team_id','game_h_team_result','Away_team_id']] = \\\n",
    "games_stats.merge(games, on='game_id', how='left' )[['date','H_team_id','result','A_team_id']]\n",
    "\n",
    "#add result to game_stats \n",
    "\n",
    "def game_true_result(team_id, h_team_id, result):\n",
    "    if team_id == h_team_id:\n",
    "        return result\n",
    "    elif result == 0:\n",
    "        return 1\n",
    "    else: return 0\n",
    "\n",
    "games_stats['game_true_result'] = games_stats.apply(lambda x: game_true_result(x['team_id'],x['Home_team_id'],x['game_h_team_result']),axis=1)\n",
    "games_stats['Opponent_team_id'] = games_stats.apply(lambda x: x['Away_team_id'] if x['Home_team_id']==x['team_id'] else x['Home_team_id'],axis=1)\n",
    "games_stats.drop(['Home_team_id','game_h_team_result','Away_team_id'],axis = 1, inplace = True)"
   ]
  },
  {
   "cell_type": "code",
   "execution_count": null,
   "id": "bdc58976",
   "metadata": {},
   "outputs": [],
   "source": [
    "# win percentage \n",
    "\n",
    "games_stats = games_stats.merge(games[['game_id','season']])\n",
    "games_stats.sort_values(by = ['season','team_id','date'], ascending = True, inplace = True)\n",
    "team_stats_groupby = games_stats.groupby(['team_id'])\n",
    "\n",
    "games_stats['game_number'] = team_stats_groupby.cumcount()\n",
    "games_stats['wins_before'] = team_stats_groupby['game_true_result'].apply(lambda x : x.shift().cumsum())\n",
    "games_stats['w_per_before'] = games_stats['wins_before']/games_stats['game_number']\n",
    "\n",
    "games_stats['w_per_last10games'] = team_stats_groupby['game_true_result'] \\\n",
    "                    .rolling(10, closed='left').sum() \\\n",
    "                    .reset_index(drop=True, level=0)\n",
    "games_stats['w_per_last5games'] = team_stats_groupby['game_true_result'] \\\n",
    "                    .rolling(5, closed='left').sum() \\\n",
    "                    .reset_index(drop=True, level=0) \n",
    "\n",
    "# games_stats.loc[games_stats['game_number']==0, 'elo_before'] = 1500\n",
    "games_stats['elo_before'] = games_stats['game_number'].apply(lambda x : 1500 if x==0 else np.nan)\n",
    "games_stats\n"
   ]
  },
  {
   "cell_type": "code",
   "execution_count": null,
   "id": "04b3e9d2",
   "metadata": {},
   "outputs": [],
   "source": [
    "# team stats rolling avg 10 games \n",
    "\n",
    "\n",
    "columns_to_aggregate = ['fastBreakPoints', 'pointsInPaint', 'biggestLead',\n",
    "       'secondChancePoints', 'pointsOffTurnovers', 'longestRun', 'points',\n",
    "       'fgm', 'fga', 'fgp', 'ftm', 'fta', 'ftp', 'tpm', 'tpa', 'tpp', 'offReb',\n",
    "       'defReb', 'totReb', 'assists', 'pFouls', 'steals', 'turnovers',\n",
    "       'blocks', 'plusMinus']\n",
    "\n",
    "columns_aggregated = ['mean_' + col for col in columns_to_aggregate]\n",
    "\n",
    "games_stats[columns_aggregated] = \\\n",
    "    team_stats_groupby[columns_to_aggregate].rolling(10,  closed='left').mean().reset_index(drop=True, level=0)\n",
    "\n",
    "relevant_columns = ['game_id','team_id'] + columns_aggregated +['w_per_before','w_per_last10games','w_per_last5games']\n",
    "\n",
    "\n"
   ]
  },
  {
   "cell_type": "code",
   "execution_count": null,
   "id": "b2e759fb",
   "metadata": {
    "scrolled": true
   },
   "outputs": [],
   "source": [
    "# Home team data merge\n",
    "full_data = games.merge(right=games_stats[relevant_columns].add_prefix('H_'), left_on=['game_id','H_team_id'],right_on=['H_game_id','H_team_id'])\n",
    "# Away team data merge\n",
    "full_data = full_data.merge(right=games_stats[relevant_columns].add_prefix('A_'), left_on=['game_id','A_team_id'],right_on=['A_game_id','A_team_id'])\n",
    "\n",
    "full_data.info()"
   ]
  },
  {
   "cell_type": "code",
   "execution_count": null,
   "id": "e417e069",
   "metadata": {},
   "outputs": [],
   "source": [
    "full_data.to_csv('model_data.csv',index=False)"
   ]
  }
 ],
 "metadata": {
  "kernelspec": {
   "display_name": "Python 3 (ipykernel)",
   "language": "python",
   "name": "python3"
  },
  "language_info": {
   "codemirror_mode": {
    "name": "ipython",
    "version": 3
   },
   "file_extension": ".py",
   "mimetype": "text/x-python",
   "name": "python",
   "nbconvert_exporter": "python",
   "pygments_lexer": "ipython3",
   "version": "3.9.7"
  }
 },
 "nbformat": 4,
 "nbformat_minor": 5
}
