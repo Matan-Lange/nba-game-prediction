{
 "cells": [
  {
   "cell_type": "code",
   "execution_count": 168,
   "id": "2dcf144f",
   "metadata": {},
   "outputs": [],
   "source": [
    "import pandas as pd\n",
    "from sklearn.model_selection import train_test_split\n",
    "from sklearn.preprocessing import StandardScaler\n",
    "from sklearn.pipeline import make_pipeline\n",
    "from sklearn.linear_model import LogisticRegression\n",
    "from sklearn.ensemble import RandomForestClassifier\n",
    "from sklearn.svm import SVC"
   ]
  },
  {
   "cell_type": "markdown",
   "id": "0e600948",
   "metadata": {},
   "source": [
    "In this notebook we have performed quick reliminary experiments on are rolling 10 avg dataset.<br>\n",
    "We wanted to test what results we can achieve without further feature engineering and parameter optimization ."
   ]
  },
  {
   "cell_type": "markdown",
   "id": "b3cfe579",
   "metadata": {},
   "source": [
    "### Import data"
   ]
  },
  {
   "cell_type": "code",
   "execution_count": 176,
   "id": "995ee262",
   "metadata": {},
   "outputs": [],
   "source": [
    "df = pd.read_csv('model_data.csv')"
   ]
  },
  {
   "cell_type": "code",
   "execution_count": 177,
   "id": "1a017138",
   "metadata": {},
   "outputs": [],
   "source": [
    "drop = ['game_id', 'season', 'date', 'arena', 'H_team', 'H_team_id', 'A_team',\n",
    "       'A_team_id', 'H_score', 'A_score', 'ref1', 'ref2', 'ref3', 'ties',\n",
    "       'leadChange', 'nugget','H_game_id','A_game_id']\n",
    "\n",
    "clean_df = df.drop(drop,axis=1)\n",
    "clean_df.dropna(inplace=True)"
   ]
  },
  {
   "cell_type": "markdown",
   "id": "13a6b584",
   "metadata": {},
   "source": [
    "### Models"
   ]
  },
  {
   "cell_type": "code",
   "execution_count": 178,
   "id": "9bd761ba",
   "metadata": {},
   "outputs": [],
   "source": [
    "X = clean_df.drop('result',axis=1)\n",
    "y = clean_df['result']\n",
    "\n",
    "X_train, X_test, y_train, y_test = train_test_split(X, y, test_size=0.3, random_state=32)"
   ]
  },
  {
   "cell_type": "code",
   "execution_count": 179,
   "id": "1d62a098",
   "metadata": {},
   "outputs": [
    {
     "data": {
      "text/plain": [
       "0.647196261682243"
      ]
     },
     "execution_count": 179,
     "metadata": {},
     "output_type": "execute_result"
    }
   ],
   "source": [
    "pipe = make_pipeline(StandardScaler(), LogisticRegression())\n",
    "pipe.fit(X_train, y_train)\n",
    "pipe.score(X_test, y_test)"
   ]
  },
  {
   "cell_type": "code",
   "execution_count": 180,
   "id": "c9fd4d57",
   "metadata": {},
   "outputs": [
    {
     "data": {
      "text/plain": [
       "0.5957943925233645"
      ]
     },
     "execution_count": 180,
     "metadata": {},
     "output_type": "execute_result"
    }
   ],
   "source": [
    "pipe = make_pipeline(RandomForestClassifier())\n",
    "pipe.fit(X_train, y_train)\n",
    "pipe.score(X_test, y_test)"
   ]
  },
  {
   "cell_type": "code",
   "execution_count": 183,
   "id": "e7486648",
   "metadata": {},
   "outputs": [
    {
     "name": "stderr",
     "output_type": "stream",
     "text": [
      "C:\\Users\\matan\\anaconda3\\lib\\site-packages\\sklearn\\neural_network\\_multilayer_perceptron.py:614: ConvergenceWarning: Stochastic Optimizer: Maximum iterations (200) reached and the optimization hasn't converged yet.\n",
      "  warnings.warn(\n"
     ]
    },
    {
     "data": {
      "text/plain": [
       "0.616822429906542"
      ]
     },
     "execution_count": 183,
     "metadata": {},
     "output_type": "execute_result"
    }
   ],
   "source": [
    "pipe = make_pipeline(StandardScaler(),MLPClassifier())\n",
    "pipe.fit(X_train, y_train)\n",
    "pipe.score(X_test, y_test)\n"
   ]
  },
  {
   "cell_type": "code",
   "execution_count": 184,
   "id": "7edb3f51",
   "metadata": {},
   "outputs": [
    {
     "data": {
      "text/plain": [
       "0.6401869158878505"
      ]
     },
     "execution_count": 184,
     "metadata": {},
     "output_type": "execute_result"
    }
   ],
   "source": [
    "pipe = make_pipeline(StandardScaler(),SVC())\n",
    "pipe.fit(X_train, y_train)\n",
    "pipe.score(X_test, y_test)"
   ]
  },
  {
   "cell_type": "code",
   "execution_count": null,
   "id": "46d5f50a",
   "metadata": {},
   "outputs": [],
   "source": []
  }
 ],
 "metadata": {
  "kernelspec": {
   "display_name": "Python 3 (ipykernel)",
   "language": "python",
   "name": "python3"
  },
  "language_info": {
   "codemirror_mode": {
    "name": "ipython",
    "version": 3
   },
   "file_extension": ".py",
   "mimetype": "text/x-python",
   "name": "python",
   "nbconvert_exporter": "python",
   "pygments_lexer": "ipython3",
   "version": "3.9.7"
  }
 },
 "nbformat": 4,
 "nbformat_minor": 5
}
